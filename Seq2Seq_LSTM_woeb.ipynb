{
  "nbformat": 4,
  "nbformat_minor": 0,
  "metadata": {
    "colab": {
      "name": "Seq2Seq_LSTM_woeb.ipynb",
      "provenance": [],
      "collapsed_sections": []
    },
    "kernelspec": {
      "name": "python3",
      "display_name": "Python 3"
    },
    "accelerator": "GPU"
  },
  "cells": [
    {
      "cell_type": "code",
      "metadata": {
        "id": "JvLP7JaZmAse"
      },
      "source": [
        "!pip install tensorflow==2.1.0"
      ],
      "execution_count": null,
      "outputs": []
    },
    {
      "cell_type": "code",
      "metadata": {
        "id": "PNkx5WRymEBy"
      },
      "source": [
        "!pip install keras==2.3.1"
      ],
      "execution_count": null,
      "outputs": []
    },
    {
      "cell_type": "code",
      "metadata": {
        "id": "Nx4zEe5-SXWF",
        "colab": {
          "base_uri": "https://localhost:8080/"
        },
        "outputId": "9c5b6415-b9f6-41f4-f19e-bdcbbca4f393"
      },
      "source": [
        "import keras\n",
        "print(keras.__version__)\n",
        "import tensorflow as tf;\n",
        "print(tf.__version__)\n"
      ],
      "execution_count": 4,
      "outputs": [
        {
          "output_type": "stream",
          "text": [
            "Using TensorFlow backend.\n"
          ],
          "name": "stderr"
        },
        {
          "output_type": "stream",
          "text": [
            "2.3.1\n",
            "2.1.0\n"
          ],
          "name": "stdout"
        }
      ]
    },
    {
      "cell_type": "code",
      "metadata": {
        "id": "6a9kxViHGv33"
      },
      "source": [
        "import pandas as pd\n",
        "import numpy as np\n",
        "import string\n",
        "from string import digits\n",
        "import matplotlib.pyplot as plt\n",
        "%matplotlib inline\n",
        "import re\n",
        "from sklearn.model_selection import train_test_split\n",
        "from nltk import word_tokenize\n",
        "from gensim.corpora.dictionary import Dictionary\n",
        "from keras.preprocessing.text import Tokenizer, one_hot"
      ],
      "execution_count": 5,
      "outputs": []
    },
    {
      "cell_type": "code",
      "metadata": {
        "id": "kfOWnmsBRViz"
      },
      "source": [
        "!pip install plot_keras_history"
      ],
      "execution_count": null,
      "outputs": []
    },
    {
      "cell_type": "code",
      "metadata": {
        "id": "dJGUagKRHYvg"
      },
      "source": [
        "fullines= pd.read_csv('drive/My Drive/Colab Data/kopitiam.csv', header = 0)\n",
        "\n",
        "\n",
        "\n",
        "#Any pairwise and sequence data can be processed\n",
        "#Not only for translation OR Everything is \"translation\"\n",
        "#For example: \n",
        "  #Question , Answer pairs\n",
        "  #Image , caption pairs\n",
        "  #song , lyric pairs\n"
      ],
      "execution_count": 12,
      "outputs": []
    },
    {
      "cell_type": "code",
      "metadata": {
        "colab": {
          "base_uri": "https://localhost:8080/"
        },
        "id": "2LGVpf94kCOz",
        "outputId": "af8bf1bb-0b14-4916-d271-318db19e8cba"
      },
      "source": [
        "from google.colab import drive\n",
        "drive.mount('/content/drive')"
      ],
      "execution_count": 2,
      "outputs": [
        {
          "output_type": "stream",
          "text": [
            "Mounted at /content/drive\n"
          ],
          "name": "stdout"
        }
      ]
    },
    {
      "cell_type": "code",
      "metadata": {
        "id": "pYFRiZRsSYwu",
        "colab": {
          "base_uri": "https://localhost:8080/"
        },
        "outputId": "c1134807-5473-4f6e-c62a-e6a9d597b2ed"
      },
      "source": [
        "print(fullines.head())"
      ],
      "execution_count": 8,
      "outputs": [
        {
          "output_type": "stream",
          "text": [
            "           SeqA                                    SeqB\n",
            "0        Kopi O                 Black Coffee with Sugar\n",
            "1          Kopi        Black Coffee with Condensed Milk\n",
            "2        Kopi C       Black Coffee with Evaporated Milk\n",
            "3   Kopi Kosong      Black Coffee without sugar or milk\n",
            "4  Kopi Gah Dai  Black Coffee with extra condensed milk\n"
          ],
          "name": "stdout"
        }
      ]
    },
    {
      "cell_type": "code",
      "metadata": {
        "id": "bBo654coK2g-"
      },
      "source": [
        "#Data Preprocessing \n",
        "#Will differ according to the nature of the data. \n",
        "#This step is important!!! and time consuming!!!!\n",
        "\n",
        "#Lowercase\n",
        "fullines.SeqA=fullines.SeqA.apply(lambda x: x.lower())\n",
        "fullines.SeqB=fullines.SeqB.apply(lambda x: x.lower())\n",
        "\n",
        "#remove digits\n",
        "remove_digits = str.maketrans('', '', digits)\n",
        "fullines.SeqA=fullines.SeqA.apply(lambda x: x.translate(remove_digits))\n",
        "fullines.SeqB=fullines.SeqB.apply(lambda x: x.translate(remove_digits))\n",
        "\n",
        "#Special for Decoder SeqB\n",
        "fullines.SeqB = fullines.SeqB.apply(lambda x : '$START '+ x + ' END$')\n",
        "\n",
        "fullines.head()\n",
        "\n",
        "lines, testlines =  train_test_split(fullines, train_size = 0.8,random_state=9)\n",
        "\n"
      ],
      "execution_count": 13,
      "outputs": []
    },
    {
      "cell_type": "code",
      "metadata": {
        "id": "jNcP2VyUR9_X",
        "colab": {
          "base_uri": "https://localhost:8080/"
        },
        "outputId": "0a31830c-8985-4c43-d993-f7295b014004"
      },
      "source": [
        "print(fullines.head())"
      ],
      "execution_count": 14,
      "outputs": [
        {
          "output_type": "stream",
          "text": [
            "           SeqA                                               SeqB\n",
            "0        kopi o                $START black coffee with sugar END$\n",
            "1          kopi       $START black coffee with condensed milk END$\n",
            "2        kopi c      $START black coffee with evaporated milk END$\n",
            "3   kopi kosong     $START black coffee without sugar or milk END$\n",
            "4  kopi gah dai  $START black coffee with extra condensed milk ...\n"
          ],
          "name": "stdout"
        }
      ]
    },
    {
      "cell_type": "code",
      "metadata": {
        "id": "XMtB_nxdRcti",
        "colab": {
          "base_uri": "https://localhost:8080/"
        },
        "outputId": "1c5cd4ea-d269-4852-8487-0f6d496ac837"
      },
      "source": [
        "#tokenize and index the sequence A\n",
        "\n",
        "tokenizer_A = Tokenizer()\n",
        "tokenizer_A.fit_on_texts(lines.SeqA)\n",
        "\n",
        "seqA = tokenizer_A.texts_to_sequences(lines.SeqA)\n",
        "print(seqA[0:10])\n",
        "word_index_A = tokenizer_A.word_index\n",
        "\n",
        "vocab_size_A = len(word_index_A) + 1  # Adding 1 because of reserved 0 index by Tokenizer\n",
        "maxlen_A = max(len(x) for x in seqA) # longest text in train set\n",
        "print('vocabubary size:',vocab_size_A)\n",
        "print('max length text:',maxlen_A)\n"
      ],
      "execution_count": 15,
      "outputs": [
        {
          "output_type": "stream",
          "text": [
            "[[1, 5], [1, 7], [2, 4], [1, 6], [1, 7, 10, 3], [1, 7], [2, 29], [2, 6], [2, 6], [1, 4, 5]]\n",
            "vocabubary size: 63\n",
            "max length text: 5\n"
          ],
          "name": "stdout"
        }
      ]
    },
    {
      "cell_type": "code",
      "metadata": {
        "id": "kT2BENUbSbOc",
        "colab": {
          "base_uri": "https://localhost:8080/"
        },
        "outputId": "889cbe97-b90f-41fd-c6d5-39dfe0ebf196"
      },
      "source": [
        "#tokenize and index the sequence B\n",
        "\n",
        "tokenizer_B = Tokenizer(filters='!\"#%&()*+,-./:;<=>?@[\\\\]^_`{|}~\\t\\n',)\n",
        "tokenizer_B.fit_on_texts(lines.SeqB)\n",
        "\n",
        "seqB = tokenizer_B.texts_to_sequences(lines.SeqB)\n",
        "print(seqB[0:10])\n",
        "word_index_B = tokenizer_B.word_index\n",
        "\n",
        "print(word_index_B)\n",
        "\n",
        "vocab_size_B = len(word_index_B) + 1  # Adding 1 because of reserved 0 index by Tokenizer\n",
        "maxlen_B = max(len(x) for x in seqB) # longest text in train set\n",
        "print('vocabubary size:',vocab_size_B)\n",
        "print('max length text:',maxlen_B)"
      ],
      "execution_count": 16,
      "outputs": [
        {
          "output_type": "stream",
          "text": [
            "[[1, 12, 5, 15, 6, 22, 4, 2], [1, 23, 5, 3, 9, 4, 2], [1, 7, 3, 6, 28, 2], [1, 12, 5, 3, 13, 4, 2], [1, 10, 5, 3, 9, 4, 8, 11, 5, 14, 8, 11, 6, 2], [1, 10, 5, 3, 9, 4, 8, 6, 8, 11, 5, 14, 2], [1, 7, 3, 13, 4, 2], [1, 10, 7, 3, 13, 4, 8, 6, 2], [1, 7, 3, 13, 4, 8, 6, 40, 17, 9, 4, 2], [1, 5, 15, 6, 22, 4, 2]]\n",
            "{'$start': 1, 'end$': 2, 'with': 3, 'milk': 4, 'coffee': 5, 'sugar': 6, 'tea': 7, 'and': 8, 'condensed': 9, 'hot': 10, 'more': 11, 'black': 12, 'evaporated': 13, 'powder': 14, 'without': 15, 'lesser': 16, 'of': 17, 'less': 18, 'iced': 19, 'water': 20, 'milo': 21, 'or': 22, 'strong': 23, 'but': 24, 'the': 25, 'no': 26, 'added': 27, 'only': 28, 'brew': 29, 'a': 30, 'to': 31, 'version': 32, 'initial': 33, 'ice': 34, 'weaker': 35, 'horlicks': 36, 'pulled': 37, 'is': 38, 'ginger': 39, 'instead': 40, 'they': 41, 'add': 42, 'iced\\xa0tea': 43, 'heaviest': 44, 'purest': 45, 'at': 46, 'all': 47, 'simply': 48, 'any': 49, 'kind': 50, 'weak': 51, 'thicker': 52, 'robust': 53, 'for': 54, 'heavier': 55, 'taste': 56, 'malay': 57, 'stout': 58, 'served': 59, 'teabag': 60, 'includes': 61, 'bean': 62, 'undissolved': 63, 'lemon': 64, 'chinese': 65, 'extra': 66, 'frothy': 67, 'sweet': 68, 'thinner': 69, 'dilute': 70, 'beverage': 71, 'described': 72, 'above': 73, 'cofee': 74, 'cappuccino': 75, 'concentration': 76, 'guinness': 77, 'chrysanthemum': 78, 'soya': 79, 'mixed': 80, 'grass': 81, 'jelly': 82, '‘pulled’': 83, 'specialty': 84, 'plus': 85, 'very': 86, 'lager': 87, 'guiness': 88, 'as': 89, 'topping': 90, 'home': 91, 'brewed': 92, 'chin': 93, 'chow': 94, 'soy': 95, 'pepsi': 96, 'cola': 97, 'kickapoo': 98, 'in': 99, 'bags': 100, 'thin': 101, 'takeaway': 102, 'scoop': 103, 'on': 104, 'top': 105, 'rose': 106, 'syrup': 107, 'drink': 108}\n",
            "vocabubary size: 109\n",
            "max length text: 17\n"
          ],
          "name": "stdout"
        }
      ]
    },
    {
      "cell_type": "code",
      "metadata": {
        "id": "WofBOOxCSzFh"
      },
      "source": [
        "# seqA_vec -> encoder -> seqB_vec -> decoder -> seqB_one-hot-matrix (ahead by one timestep)\n",
        "\n",
        "# First define the vectors' shape with all 0s as value\n",
        "\n",
        "encoder_input_data = np.zeros((len(seqA), maxlen_A, vocab_size_A), dtype='float32')\n",
        "decoder_input_data = np.zeros((len(seqA), maxlen_B, vocab_size_B), dtype='float32')\n",
        "decoder_target_data = np.zeros((len(seqA), maxlen_B, vocab_size_B),dtype='float32')\n"
      ],
      "execution_count": 17,
      "outputs": []
    },
    {
      "cell_type": "code",
      "metadata": {
        "id": "3D7T4v9DWxfu"
      },
      "source": [
        "#Then populate the word_index as the value\n",
        "for i, (input_text, target_text) in enumerate(zip(seqA, seqB)):\n",
        "    for t, word_id in enumerate(input_text):\n",
        "        encoder_input_data[i, t, word_id] = 1.\n",
        "#    encoder_input_data[i, t + 1:, input_token_index[' ']] = 1.\n",
        "    for t, word_id in enumerate(target_text):\n",
        "        # decoder_target_data is ahead of decoder_input_data by one timestep\n",
        "        decoder_input_data[i, t, word_id] = 1.\n",
        "        if t > 0:\n",
        "            # decoder_target_data will be ahead by one timestep\n",
        "            # and will not include the start character.\n",
        "            decoder_target_data[i, t - 1, word_id] = 1.0\n",
        "    #decoder_input_data[i, t + 1:, target_token_index[' ']] = 1.\n",
        "    #decoder_target_data[i, t:, target_token_index[' ']] = 1.\n"
      ],
      "execution_count": 18,
      "outputs": []
    },
    {
      "cell_type": "code",
      "metadata": {
        "id": "mLwuoSaOaVDK",
        "colab": {
          "base_uri": "https://localhost:8080/"
        },
        "outputId": "a038c1bb-e6df-41da-c1b2-92b1cf247d5b"
      },
      "source": [
        "#check the index for the first pair \n",
        "print(\"encoder:\")\n",
        "print(encoder_input_data[0])\n",
        "print(decoder_input_data[0])\n",
        "print(\"target:\")\n",
        "print(decoder_target_data[0,0])\n",
        "print(decoder_target_data[0,1])\n",
        "print(decoder_target_data[0,2])"
      ],
      "execution_count": 19,
      "outputs": [
        {
          "output_type": "stream",
          "text": [
            "encoder:\n",
            "[[0. 1. 0. 0. 0. 0. 0. 0. 0. 0. 0. 0. 0. 0. 0. 0. 0. 0. 0. 0. 0. 0. 0. 0.\n",
            "  0. 0. 0. 0. 0. 0. 0. 0. 0. 0. 0. 0. 0. 0. 0. 0. 0. 0. 0. 0. 0. 0. 0. 0.\n",
            "  0. 0. 0. 0. 0. 0. 0. 0. 0. 0. 0. 0. 0. 0. 0.]\n",
            " [0. 0. 0. 0. 0. 1. 0. 0. 0. 0. 0. 0. 0. 0. 0. 0. 0. 0. 0. 0. 0. 0. 0. 0.\n",
            "  0. 0. 0. 0. 0. 0. 0. 0. 0. 0. 0. 0. 0. 0. 0. 0. 0. 0. 0. 0. 0. 0. 0. 0.\n",
            "  0. 0. 0. 0. 0. 0. 0. 0. 0. 0. 0. 0. 0. 0. 0.]\n",
            " [0. 0. 0. 0. 0. 0. 0. 0. 0. 0. 0. 0. 0. 0. 0. 0. 0. 0. 0. 0. 0. 0. 0. 0.\n",
            "  0. 0. 0. 0. 0. 0. 0. 0. 0. 0. 0. 0. 0. 0. 0. 0. 0. 0. 0. 0. 0. 0. 0. 0.\n",
            "  0. 0. 0. 0. 0. 0. 0. 0. 0. 0. 0. 0. 0. 0. 0.]\n",
            " [0. 0. 0. 0. 0. 0. 0. 0. 0. 0. 0. 0. 0. 0. 0. 0. 0. 0. 0. 0. 0. 0. 0. 0.\n",
            "  0. 0. 0. 0. 0. 0. 0. 0. 0. 0. 0. 0. 0. 0. 0. 0. 0. 0. 0. 0. 0. 0. 0. 0.\n",
            "  0. 0. 0. 0. 0. 0. 0. 0. 0. 0. 0. 0. 0. 0. 0.]\n",
            " [0. 0. 0. 0. 0. 0. 0. 0. 0. 0. 0. 0. 0. 0. 0. 0. 0. 0. 0. 0. 0. 0. 0. 0.\n",
            "  0. 0. 0. 0. 0. 0. 0. 0. 0. 0. 0. 0. 0. 0. 0. 0. 0. 0. 0. 0. 0. 0. 0. 0.\n",
            "  0. 0. 0. 0. 0. 0. 0. 0. 0. 0. 0. 0. 0. 0. 0.]]\n",
            "[[0. 1. 0. ... 0. 0. 0.]\n",
            " [0. 0. 0. ... 0. 0. 0.]\n",
            " [0. 0. 0. ... 0. 0. 0.]\n",
            " ...\n",
            " [0. 0. 0. ... 0. 0. 0.]\n",
            " [0. 0. 0. ... 0. 0. 0.]\n",
            " [0. 0. 0. ... 0. 0. 0.]]\n",
            "target:\n",
            "[0. 0. 0. 0. 0. 0. 0. 0. 0. 0. 0. 0. 1. 0. 0. 0. 0. 0. 0. 0. 0. 0. 0. 0.\n",
            " 0. 0. 0. 0. 0. 0. 0. 0. 0. 0. 0. 0. 0. 0. 0. 0. 0. 0. 0. 0. 0. 0. 0. 0.\n",
            " 0. 0. 0. 0. 0. 0. 0. 0. 0. 0. 0. 0. 0. 0. 0. 0. 0. 0. 0. 0. 0. 0. 0. 0.\n",
            " 0. 0. 0. 0. 0. 0. 0. 0. 0. 0. 0. 0. 0. 0. 0. 0. 0. 0. 0. 0. 0. 0. 0. 0.\n",
            " 0. 0. 0. 0. 0. 0. 0. 0. 0. 0. 0. 0. 0.]\n",
            "[0. 0. 0. 0. 0. 1. 0. 0. 0. 0. 0. 0. 0. 0. 0. 0. 0. 0. 0. 0. 0. 0. 0. 0.\n",
            " 0. 0. 0. 0. 0. 0. 0. 0. 0. 0. 0. 0. 0. 0. 0. 0. 0. 0. 0. 0. 0. 0. 0. 0.\n",
            " 0. 0. 0. 0. 0. 0. 0. 0. 0. 0. 0. 0. 0. 0. 0. 0. 0. 0. 0. 0. 0. 0. 0. 0.\n",
            " 0. 0. 0. 0. 0. 0. 0. 0. 0. 0. 0. 0. 0. 0. 0. 0. 0. 0. 0. 0. 0. 0. 0. 0.\n",
            " 0. 0. 0. 0. 0. 0. 0. 0. 0. 0. 0. 0. 0.]\n",
            "[0. 0. 0. 0. 0. 0. 0. 0. 0. 0. 0. 0. 0. 0. 0. 1. 0. 0. 0. 0. 0. 0. 0. 0.\n",
            " 0. 0. 0. 0. 0. 0. 0. 0. 0. 0. 0. 0. 0. 0. 0. 0. 0. 0. 0. 0. 0. 0. 0. 0.\n",
            " 0. 0. 0. 0. 0. 0. 0. 0. 0. 0. 0. 0. 0. 0. 0. 0. 0. 0. 0. 0. 0. 0. 0. 0.\n",
            " 0. 0. 0. 0. 0. 0. 0. 0. 0. 0. 0. 0. 0. 0. 0. 0. 0. 0. 0. 0. 0. 0. 0. 0.\n",
            " 0. 0. 0. 0. 0. 0. 0. 0. 0. 0. 0. 0. 0.]\n"
          ],
          "name": "stdout"
        }
      ]
    },
    {
      "cell_type": "code",
      "metadata": {
        "id": "iMfJYAVlbLLG",
        "colab": {
          "base_uri": "https://localhost:8080/"
        },
        "outputId": "fa1f9584-7ef9-42a4-c00a-d39bd3296c22"
      },
      "source": [
        "#Build Seq2Seq model using LSTM\n",
        "\n",
        "embedding_size = 64\n",
        "hidden_dim = 32\n",
        "\n",
        "from keras.layers import Input, LSTM, Embedding, Dense\n",
        "from keras.models import Model\n",
        "from keras.utils import plot_model\n",
        "\n",
        "\n",
        "#Encoder Part: {encoder_input -> lstm} -> encoder_states\n",
        "encoder_inputs = Input(shape=(None, vocab_size_A))\n",
        "encoder = LSTM(hidden_dim, return_state=True)\n",
        "encoder_outputs, state_h, state_c = encoder(encoder_inputs)\n",
        "encoder_states = [state_h, state_c]\n",
        "\n",
        "\n",
        "# Decoder Part:{[decoder_input , encoder_states] ----> lstm} --> last_dense_layer\n",
        "decoder_inputs = Input(shape=(None, vocab_size_B))\n",
        "decoder_lstm = LSTM(hidden_dim, return_sequences=True, return_state=True)#define lstm\n",
        "decoder_outputs, _, _ = decoder_lstm(decoder_inputs,initial_state=encoder_states)#link: [decoder_input,encoder_states] ----> lstm\n",
        "decoder_dense = Dense(vocab_size_B, activation='softmax')#define last_dense_layer\n",
        "decoder_outputs = decoder_dense(decoder_outputs)#link:{[decoder_input,encoder_states] ----> lstm} -> last_dense_layer\n",
        "\n",
        "#Link encoder -> decoder \n",
        "model = Model([encoder_inputs, decoder_inputs], decoder_outputs)\n",
        "\n",
        "model.compile(optimizer='rmsprop', loss='categorical_crossentropy',\n",
        "              metrics=['accuracy'])\n",
        "\n",
        "model.summary()"
      ],
      "execution_count": 20,
      "outputs": [
        {
          "output_type": "stream",
          "text": [
            "Model: \"model_1\"\n",
            "__________________________________________________________________________________________________\n",
            "Layer (type)                    Output Shape         Param #     Connected to                     \n",
            "==================================================================================================\n",
            "input_1 (InputLayer)            (None, None, 63)     0                                            \n",
            "__________________________________________________________________________________________________\n",
            "input_2 (InputLayer)            (None, None, 109)    0                                            \n",
            "__________________________________________________________________________________________________\n",
            "lstm_1 (LSTM)                   [(None, 32), (None,  12288       input_1[0][0]                    \n",
            "__________________________________________________________________________________________________\n",
            "lstm_2 (LSTM)                   [(None, None, 32), ( 18176       input_2[0][0]                    \n",
            "                                                                 lstm_1[0][1]                     \n",
            "                                                                 lstm_1[0][2]                     \n",
            "__________________________________________________________________________________________________\n",
            "dense_1 (Dense)                 (None, None, 109)    3597        lstm_2[0][0]                     \n",
            "==================================================================================================\n",
            "Total params: 34,061\n",
            "Trainable params: 34,061\n",
            "Non-trainable params: 0\n",
            "__________________________________________________________________________________________________\n"
          ],
          "name": "stdout"
        }
      ]
    },
    {
      "cell_type": "code",
      "metadata": {
        "id": "wJ2Tw6fsUIC8",
        "colab": {
          "base_uri": "https://localhost:8080/"
        },
        "outputId": "01ed6b2b-5b55-44db-80fa-9ac3828dedae"
      },
      "source": [
        "#Train the model\n",
        "hist = model.fit([encoder_input_data, decoder_input_data], decoder_target_data,\n",
        "          batch_size=8,\n",
        "          epochs=200,\n",
        "          validation_split=0.2).history\n",
        "# Save model\n",
        "model.save('s2s.h5')"
      ],
      "execution_count": 21,
      "outputs": [
        {
          "output_type": "stream",
          "text": [
            "Train on 107 samples, validate on 27 samples\n",
            "Epoch 1/200\n",
            "107/107 [==============================] - 2s 22ms/step - loss: 2.0487 - accuracy: 0.0638 - val_loss: 1.8775 - val_accuracy: 0.1002\n",
            "Epoch 2/200\n",
            "107/107 [==============================] - 0s 3ms/step - loss: 1.9457 - accuracy: 0.0902 - val_loss: 1.6819 - val_accuracy: 0.0501\n",
            "Epoch 3/200\n",
            "107/107 [==============================] - 0s 3ms/step - loss: 1.6946 - accuracy: 0.0500 - val_loss: 1.4538 - val_accuracy: 0.0523\n",
            "Epoch 4/200\n",
            "107/107 [==============================] - 0s 3ms/step - loss: 1.5557 - accuracy: 0.0693 - val_loss: 1.3767 - val_accuracy: 0.0697\n",
            "Epoch 5/200\n",
            "107/107 [==============================] - 0s 3ms/step - loss: 1.5030 - accuracy: 0.0748 - val_loss: 1.3439 - val_accuracy: 0.1024\n",
            "Epoch 6/200\n",
            "107/107 [==============================] - 0s 3ms/step - loss: 1.4753 - accuracy: 0.0979 - val_loss: 1.3277 - val_accuracy: 0.1068\n",
            "Epoch 7/200\n",
            "107/107 [==============================] - 0s 3ms/step - loss: 1.4557 - accuracy: 0.1012 - val_loss: 1.3151 - val_accuracy: 0.1046\n",
            "Epoch 8/200\n",
            "107/107 [==============================] - 0s 3ms/step - loss: 1.4400 - accuracy: 0.0940 - val_loss: 1.3093 - val_accuracy: 0.1046\n",
            "Epoch 9/200\n",
            "107/107 [==============================] - 0s 3ms/step - loss: 1.4247 - accuracy: 0.0957 - val_loss: 1.3019 - val_accuracy: 0.1046\n",
            "Epoch 10/200\n",
            "107/107 [==============================] - 0s 3ms/step - loss: 1.4105 - accuracy: 0.1006 - val_loss: 1.2920 - val_accuracy: 0.1133\n",
            "Epoch 11/200\n",
            "107/107 [==============================] - 0s 3ms/step - loss: 1.3966 - accuracy: 0.1028 - val_loss: 1.2820 - val_accuracy: 0.1133\n",
            "Epoch 12/200\n",
            "107/107 [==============================] - 0s 3ms/step - loss: 1.3813 - accuracy: 0.1050 - val_loss: 1.2723 - val_accuracy: 0.1111\n",
            "Epoch 13/200\n",
            "107/107 [==============================] - 0s 3ms/step - loss: 1.3640 - accuracy: 0.1105 - val_loss: 1.2652 - val_accuracy: 0.1220\n",
            "Epoch 14/200\n",
            "107/107 [==============================] - 0s 3ms/step - loss: 1.3497 - accuracy: 0.1198 - val_loss: 1.2519 - val_accuracy: 0.1285\n",
            "Epoch 15/200\n",
            "107/107 [==============================] - 0s 3ms/step - loss: 1.3352 - accuracy: 0.1226 - val_loss: 1.2416 - val_accuracy: 0.1307\n",
            "Epoch 16/200\n",
            "107/107 [==============================] - 0s 3ms/step - loss: 1.3212 - accuracy: 0.1215 - val_loss: 1.2348 - val_accuracy: 0.1394\n",
            "Epoch 17/200\n",
            "107/107 [==============================] - 0s 3ms/step - loss: 1.3076 - accuracy: 0.1286 - val_loss: 1.2312 - val_accuracy: 0.1220\n",
            "Epoch 18/200\n",
            "107/107 [==============================] - 0s 3ms/step - loss: 1.2954 - accuracy: 0.1319 - val_loss: 1.2213 - val_accuracy: 0.1373\n",
            "Epoch 19/200\n",
            "107/107 [==============================] - 0s 3ms/step - loss: 1.2837 - accuracy: 0.1308 - val_loss: 1.2121 - val_accuracy: 0.1394\n",
            "Epoch 20/200\n",
            "107/107 [==============================] - 0s 3ms/step - loss: 1.2705 - accuracy: 0.1336 - val_loss: 1.2183 - val_accuracy: 0.1307\n",
            "Epoch 21/200\n",
            "107/107 [==============================] - 0s 3ms/step - loss: 1.2600 - accuracy: 0.1374 - val_loss: 1.2054 - val_accuracy: 0.1329\n",
            "Epoch 22/200\n",
            "107/107 [==============================] - 0s 3ms/step - loss: 1.2482 - accuracy: 0.1380 - val_loss: 1.1940 - val_accuracy: 0.1394\n",
            "Epoch 23/200\n",
            "107/107 [==============================] - 0s 3ms/step - loss: 1.2372 - accuracy: 0.1396 - val_loss: 1.1866 - val_accuracy: 0.1394\n",
            "Epoch 24/200\n",
            "107/107 [==============================] - 0s 3ms/step - loss: 1.2254 - accuracy: 0.1418 - val_loss: 1.1869 - val_accuracy: 0.1351\n",
            "Epoch 25/200\n",
            "107/107 [==============================] - 0s 3ms/step - loss: 1.2146 - accuracy: 0.1396 - val_loss: 1.1731 - val_accuracy: 0.1394\n",
            "Epoch 26/200\n",
            "107/107 [==============================] - 0s 3ms/step - loss: 1.2047 - accuracy: 0.1440 - val_loss: 1.1761 - val_accuracy: 0.1373\n",
            "Epoch 27/200\n",
            "107/107 [==============================] - 0s 3ms/step - loss: 1.1922 - accuracy: 0.1468 - val_loss: 1.1651 - val_accuracy: 0.1394\n",
            "Epoch 28/200\n",
            "107/107 [==============================] - 0s 3ms/step - loss: 1.1815 - accuracy: 0.1468 - val_loss: 1.1598 - val_accuracy: 0.1460\n",
            "Epoch 29/200\n",
            "107/107 [==============================] - 0s 3ms/step - loss: 1.1705 - accuracy: 0.1506 - val_loss: 1.1527 - val_accuracy: 0.1547\n",
            "Epoch 30/200\n",
            "107/107 [==============================] - 0s 3ms/step - loss: 1.1612 - accuracy: 0.1534 - val_loss: 1.1534 - val_accuracy: 0.1438\n",
            "Epoch 31/200\n",
            "107/107 [==============================] - 0s 3ms/step - loss: 1.1480 - accuracy: 0.1594 - val_loss: 1.1529 - val_accuracy: 0.1481\n",
            "Epoch 32/200\n",
            "107/107 [==============================] - 0s 3ms/step - loss: 1.1374 - accuracy: 0.1578 - val_loss: 1.1458 - val_accuracy: 0.1547\n",
            "Epoch 33/200\n",
            "107/107 [==============================] - 0s 3ms/step - loss: 1.1257 - accuracy: 0.1600 - val_loss: 1.1575 - val_accuracy: 0.1460\n",
            "Epoch 34/200\n",
            "107/107 [==============================] - 0s 3ms/step - loss: 1.1148 - accuracy: 0.1633 - val_loss: 1.1276 - val_accuracy: 0.1481\n",
            "Epoch 35/200\n",
            "107/107 [==============================] - 0s 3ms/step - loss: 1.1034 - accuracy: 0.1616 - val_loss: 1.1302 - val_accuracy: 0.1547\n",
            "Epoch 36/200\n",
            "107/107 [==============================] - 0s 3ms/step - loss: 1.0918 - accuracy: 0.1666 - val_loss: 1.1198 - val_accuracy: 0.1503\n",
            "Epoch 37/200\n",
            "107/107 [==============================] - 0s 3ms/step - loss: 1.0813 - accuracy: 0.1710 - val_loss: 1.1218 - val_accuracy: 0.1569\n",
            "Epoch 38/200\n",
            "107/107 [==============================] - 0s 3ms/step - loss: 1.0709 - accuracy: 0.1677 - val_loss: 1.1156 - val_accuracy: 0.1590\n",
            "Epoch 39/200\n",
            "107/107 [==============================] - 0s 3ms/step - loss: 1.0603 - accuracy: 0.1715 - val_loss: 1.1211 - val_accuracy: 0.1547\n",
            "Epoch 40/200\n",
            "107/107 [==============================] - 0s 3ms/step - loss: 1.0488 - accuracy: 0.1770 - val_loss: 1.0981 - val_accuracy: 0.1634\n",
            "Epoch 41/200\n",
            "107/107 [==============================] - 0s 3ms/step - loss: 1.0397 - accuracy: 0.1748 - val_loss: 1.0939 - val_accuracy: 0.1634\n",
            "Epoch 42/200\n",
            "107/107 [==============================] - 0s 3ms/step - loss: 1.0286 - accuracy: 0.1787 - val_loss: 1.0903 - val_accuracy: 0.1656\n",
            "Epoch 43/200\n",
            "107/107 [==============================] - 0s 3ms/step - loss: 1.0196 - accuracy: 0.1781 - val_loss: 1.1088 - val_accuracy: 0.1612\n",
            "Epoch 44/200\n",
            "107/107 [==============================] - 0s 3ms/step - loss: 1.0078 - accuracy: 0.1836 - val_loss: 1.0902 - val_accuracy: 0.1656\n",
            "Epoch 45/200\n",
            "107/107 [==============================] - 0s 3ms/step - loss: 0.9979 - accuracy: 0.1842 - val_loss: 1.0779 - val_accuracy: 0.1743\n",
            "Epoch 46/200\n",
            "107/107 [==============================] - 0s 3ms/step - loss: 0.9888 - accuracy: 0.1869 - val_loss: 1.0702 - val_accuracy: 0.1721\n",
            "Epoch 47/200\n",
            "107/107 [==============================] - 0s 3ms/step - loss: 0.9792 - accuracy: 0.1847 - val_loss: 1.0656 - val_accuracy: 0.1765\n",
            "Epoch 48/200\n",
            "107/107 [==============================] - 0s 3ms/step - loss: 0.9664 - accuracy: 0.1902 - val_loss: 1.0706 - val_accuracy: 0.1808\n",
            "Epoch 49/200\n",
            "107/107 [==============================] - 0s 3ms/step - loss: 0.9576 - accuracy: 0.1930 - val_loss: 1.0619 - val_accuracy: 0.1721\n",
            "Epoch 50/200\n",
            "107/107 [==============================] - 0s 3ms/step - loss: 0.9486 - accuracy: 0.1919 - val_loss: 1.0524 - val_accuracy: 0.1808\n",
            "Epoch 51/200\n",
            "107/107 [==============================] - 0s 3ms/step - loss: 0.9386 - accuracy: 0.1946 - val_loss: 1.0435 - val_accuracy: 0.1808\n",
            "Epoch 52/200\n",
            "107/107 [==============================] - 0s 3ms/step - loss: 0.9279 - accuracy: 0.2001 - val_loss: 1.0423 - val_accuracy: 0.1808\n",
            "Epoch 53/200\n",
            "107/107 [==============================] - 0s 3ms/step - loss: 0.9181 - accuracy: 0.2029 - val_loss: 1.0479 - val_accuracy: 0.1808\n",
            "Epoch 54/200\n",
            "107/107 [==============================] - 0s 3ms/step - loss: 0.9102 - accuracy: 0.2007 - val_loss: 1.0301 - val_accuracy: 0.1961\n",
            "Epoch 55/200\n",
            "107/107 [==============================] - 0s 3ms/step - loss: 0.8983 - accuracy: 0.2029 - val_loss: 1.0328 - val_accuracy: 0.1895\n",
            "Epoch 56/200\n",
            "107/107 [==============================] - 0s 3ms/step - loss: 0.8908 - accuracy: 0.2100 - val_loss: 1.0239 - val_accuracy: 0.1939\n",
            "Epoch 57/200\n",
            "107/107 [==============================] - 0s 3ms/step - loss: 0.8791 - accuracy: 0.2139 - val_loss: 1.0183 - val_accuracy: 0.2070\n",
            "Epoch 58/200\n",
            "107/107 [==============================] - 0s 3ms/step - loss: 0.8685 - accuracy: 0.2166 - val_loss: 1.0173 - val_accuracy: 0.2092\n",
            "Epoch 59/200\n",
            "107/107 [==============================] - 0s 3ms/step - loss: 0.8609 - accuracy: 0.2221 - val_loss: 1.0103 - val_accuracy: 0.1961\n",
            "Epoch 60/200\n",
            "107/107 [==============================] - 0s 3ms/step - loss: 0.8507 - accuracy: 0.2287 - val_loss: 1.0189 - val_accuracy: 0.1983\n",
            "Epoch 61/200\n",
            "107/107 [==============================] - 0s 3ms/step - loss: 0.8416 - accuracy: 0.2281 - val_loss: 1.0389 - val_accuracy: 0.1830\n",
            "Epoch 62/200\n",
            "107/107 [==============================] - 0s 3ms/step - loss: 0.8341 - accuracy: 0.2259 - val_loss: 0.9996 - val_accuracy: 0.2070\n",
            "Epoch 63/200\n",
            "107/107 [==============================] - 0s 3ms/step - loss: 0.8210 - accuracy: 0.2380 - val_loss: 0.9986 - val_accuracy: 0.2004\n",
            "Epoch 64/200\n",
            "107/107 [==============================] - 0s 3ms/step - loss: 0.8135 - accuracy: 0.2380 - val_loss: 0.9939 - val_accuracy: 0.2004\n",
            "Epoch 65/200\n",
            "107/107 [==============================] - 0s 3ms/step - loss: 0.8057 - accuracy: 0.2408 - val_loss: 0.9850 - val_accuracy: 0.2157\n",
            "Epoch 66/200\n",
            "107/107 [==============================] - 0s 3ms/step - loss: 0.7940 - accuracy: 0.2474 - val_loss: 0.9857 - val_accuracy: 0.2070\n",
            "Epoch 67/200\n",
            "107/107 [==============================] - 0s 3ms/step - loss: 0.7847 - accuracy: 0.2490 - val_loss: 0.9906 - val_accuracy: 0.2113\n",
            "Epoch 68/200\n",
            "107/107 [==============================] - 0s 3ms/step - loss: 0.7751 - accuracy: 0.2496 - val_loss: 0.9818 - val_accuracy: 0.2135\n",
            "Epoch 69/200\n",
            "107/107 [==============================] - 0s 3ms/step - loss: 0.7660 - accuracy: 0.2573 - val_loss: 0.9724 - val_accuracy: 0.2113\n",
            "Epoch 70/200\n",
            "107/107 [==============================] - 0s 3ms/step - loss: 0.7572 - accuracy: 0.2562 - val_loss: 0.9745 - val_accuracy: 0.2113\n",
            "Epoch 71/200\n",
            "107/107 [==============================] - 0s 3ms/step - loss: 0.7485 - accuracy: 0.2578 - val_loss: 0.9685 - val_accuracy: 0.2135\n",
            "Epoch 72/200\n",
            "107/107 [==============================] - 0s 3ms/step - loss: 0.7384 - accuracy: 0.2650 - val_loss: 0.9620 - val_accuracy: 0.2048\n",
            "Epoch 73/200\n",
            "107/107 [==============================] - 0s 3ms/step - loss: 0.7288 - accuracy: 0.2628 - val_loss: 0.9688 - val_accuracy: 0.2048\n",
            "Epoch 74/200\n",
            "107/107 [==============================] - 0s 3ms/step - loss: 0.7199 - accuracy: 0.2655 - val_loss: 0.9581 - val_accuracy: 0.2113\n",
            "Epoch 75/200\n",
            "107/107 [==============================] - 0s 3ms/step - loss: 0.7129 - accuracy: 0.2683 - val_loss: 0.9637 - val_accuracy: 0.2048\n",
            "Epoch 76/200\n",
            "107/107 [==============================] - 0s 3ms/step - loss: 0.7016 - accuracy: 0.2672 - val_loss: 0.9495 - val_accuracy: 0.2048\n",
            "Epoch 77/200\n",
            "107/107 [==============================] - 0s 3ms/step - loss: 0.6943 - accuracy: 0.2738 - val_loss: 0.9611 - val_accuracy: 0.2048\n",
            "Epoch 78/200\n",
            "107/107 [==============================] - 0s 3ms/step - loss: 0.6870 - accuracy: 0.2760 - val_loss: 0.9418 - val_accuracy: 0.2070\n",
            "Epoch 79/200\n",
            "107/107 [==============================] - 0s 3ms/step - loss: 0.6770 - accuracy: 0.2782 - val_loss: 0.9451 - val_accuracy: 0.2048\n",
            "Epoch 80/200\n",
            "107/107 [==============================] - 0s 3ms/step - loss: 0.6710 - accuracy: 0.2738 - val_loss: 0.9503 - val_accuracy: 0.2179\n",
            "Epoch 81/200\n",
            "107/107 [==============================] - 0s 3ms/step - loss: 0.6592 - accuracy: 0.2815 - val_loss: 0.9435 - val_accuracy: 0.2200\n",
            "Epoch 82/200\n",
            "107/107 [==============================] - 0s 3ms/step - loss: 0.6535 - accuracy: 0.2798 - val_loss: 0.9287 - val_accuracy: 0.2157\n",
            "Epoch 83/200\n",
            "107/107 [==============================] - 0s 3ms/step - loss: 0.6455 - accuracy: 0.2815 - val_loss: 0.9417 - val_accuracy: 0.2200\n",
            "Epoch 84/200\n",
            "107/107 [==============================] - 0s 3ms/step - loss: 0.6354 - accuracy: 0.2837 - val_loss: 0.9310 - val_accuracy: 0.2179\n",
            "Epoch 85/200\n",
            "107/107 [==============================] - 0s 3ms/step - loss: 0.6281 - accuracy: 0.2820 - val_loss: 0.9298 - val_accuracy: 0.2179\n",
            "Epoch 86/200\n",
            "107/107 [==============================] - 0s 3ms/step - loss: 0.6216 - accuracy: 0.2881 - val_loss: 0.9296 - val_accuracy: 0.2200\n",
            "Epoch 87/200\n",
            "107/107 [==============================] - 0s 3ms/step - loss: 0.6137 - accuracy: 0.2864 - val_loss: 0.9247 - val_accuracy: 0.2113\n",
            "Epoch 88/200\n",
            "107/107 [==============================] - 0s 3ms/step - loss: 0.6082 - accuracy: 0.2886 - val_loss: 0.9258 - val_accuracy: 0.2157\n",
            "Epoch 89/200\n",
            "107/107 [==============================] - 0s 3ms/step - loss: 0.5989 - accuracy: 0.2908 - val_loss: 0.9169 - val_accuracy: 0.2157\n",
            "Epoch 90/200\n",
            "107/107 [==============================] - 0s 3ms/step - loss: 0.5932 - accuracy: 0.2947 - val_loss: 0.9247 - val_accuracy: 0.2200\n",
            "Epoch 91/200\n",
            "107/107 [==============================] - 0s 3ms/step - loss: 0.5857 - accuracy: 0.2952 - val_loss: 0.9196 - val_accuracy: 0.2179\n",
            "Epoch 92/200\n",
            "107/107 [==============================] - 0s 3ms/step - loss: 0.5791 - accuracy: 0.2958 - val_loss: 0.9139 - val_accuracy: 0.2157\n",
            "Epoch 93/200\n",
            "107/107 [==============================] - 0s 3ms/step - loss: 0.5701 - accuracy: 0.2969 - val_loss: 0.9088 - val_accuracy: 0.2200\n",
            "Epoch 94/200\n",
            "107/107 [==============================] - 0s 3ms/step - loss: 0.5648 - accuracy: 0.3024 - val_loss: 0.9097 - val_accuracy: 0.2179\n",
            "Epoch 95/200\n",
            "107/107 [==============================] - 0s 3ms/step - loss: 0.5570 - accuracy: 0.2980 - val_loss: 0.9196 - val_accuracy: 0.2135\n",
            "Epoch 96/200\n",
            "107/107 [==============================] - 0s 3ms/step - loss: 0.5517 - accuracy: 0.3013 - val_loss: 0.9128 - val_accuracy: 0.2179\n",
            "Epoch 97/200\n",
            "107/107 [==============================] - 0s 3ms/step - loss: 0.5453 - accuracy: 0.3024 - val_loss: 0.9224 - val_accuracy: 0.2135\n",
            "Epoch 98/200\n",
            "107/107 [==============================] - 0s 3ms/step - loss: 0.5403 - accuracy: 0.3007 - val_loss: 0.9083 - val_accuracy: 0.2200\n",
            "Epoch 99/200\n",
            "107/107 [==============================] - 0s 3ms/step - loss: 0.5294 - accuracy: 0.3062 - val_loss: 0.9118 - val_accuracy: 0.2179\n",
            "Epoch 100/200\n",
            "107/107 [==============================] - 0s 3ms/step - loss: 0.5280 - accuracy: 0.3029 - val_loss: 0.9115 - val_accuracy: 0.2135\n",
            "Epoch 101/200\n",
            "107/107 [==============================] - 0s 3ms/step - loss: 0.5185 - accuracy: 0.3073 - val_loss: 0.9033 - val_accuracy: 0.2179\n",
            "Epoch 102/200\n",
            "107/107 [==============================] - 0s 3ms/step - loss: 0.5155 - accuracy: 0.3051 - val_loss: 0.9059 - val_accuracy: 0.2135\n",
            "Epoch 103/200\n",
            "107/107 [==============================] - 0s 3ms/step - loss: 0.5062 - accuracy: 0.3112 - val_loss: 0.9029 - val_accuracy: 0.2135\n",
            "Epoch 104/200\n",
            "107/107 [==============================] - 0s 3ms/step - loss: 0.5017 - accuracy: 0.3101 - val_loss: 0.9128 - val_accuracy: 0.2157\n",
            "Epoch 105/200\n",
            "107/107 [==============================] - 0s 3ms/step - loss: 0.4960 - accuracy: 0.3134 - val_loss: 0.9093 - val_accuracy: 0.2179\n",
            "Epoch 106/200\n",
            "107/107 [==============================] - 0s 3ms/step - loss: 0.4890 - accuracy: 0.3156 - val_loss: 0.9092 - val_accuracy: 0.2222\n",
            "Epoch 107/200\n",
            "107/107 [==============================] - 0s 3ms/step - loss: 0.4841 - accuracy: 0.3139 - val_loss: 0.9051 - val_accuracy: 0.2135\n",
            "Epoch 108/200\n",
            "107/107 [==============================] - 0s 3ms/step - loss: 0.4778 - accuracy: 0.3189 - val_loss: 0.9071 - val_accuracy: 0.2135\n",
            "Epoch 109/200\n",
            "107/107 [==============================] - 0s 3ms/step - loss: 0.4738 - accuracy: 0.3189 - val_loss: 0.9066 - val_accuracy: 0.2200\n",
            "Epoch 110/200\n",
            "107/107 [==============================] - 0s 3ms/step - loss: 0.4678 - accuracy: 0.3161 - val_loss: 0.9065 - val_accuracy: 0.2113\n",
            "Epoch 111/200\n",
            "107/107 [==============================] - 0s 3ms/step - loss: 0.4605 - accuracy: 0.3205 - val_loss: 0.9179 - val_accuracy: 0.2113\n",
            "Epoch 112/200\n",
            "107/107 [==============================] - 0s 3ms/step - loss: 0.4568 - accuracy: 0.3211 - val_loss: 0.9105 - val_accuracy: 0.2113\n",
            "Epoch 113/200\n",
            "107/107 [==============================] - 0s 3ms/step - loss: 0.4514 - accuracy: 0.3222 - val_loss: 0.9182 - val_accuracy: 0.2179\n",
            "Epoch 114/200\n",
            "107/107 [==============================] - 0s 3ms/step - loss: 0.4453 - accuracy: 0.3266 - val_loss: 0.9069 - val_accuracy: 0.2222\n",
            "Epoch 115/200\n",
            "107/107 [==============================] - 0s 3ms/step - loss: 0.4425 - accuracy: 0.3222 - val_loss: 0.9104 - val_accuracy: 0.2200\n",
            "Epoch 116/200\n",
            "107/107 [==============================] - 0s 3ms/step - loss: 0.4361 - accuracy: 0.3238 - val_loss: 0.9019 - val_accuracy: 0.2179\n",
            "Epoch 117/200\n",
            "107/107 [==============================] - 0s 3ms/step - loss: 0.4308 - accuracy: 0.3271 - val_loss: 0.9065 - val_accuracy: 0.2244\n",
            "Epoch 118/200\n",
            "107/107 [==============================] - 0s 3ms/step - loss: 0.4245 - accuracy: 0.3288 - val_loss: 0.9185 - val_accuracy: 0.2157\n",
            "Epoch 119/200\n",
            "107/107 [==============================] - 0s 3ms/step - loss: 0.4221 - accuracy: 0.3288 - val_loss: 0.9214 - val_accuracy: 0.2157\n",
            "Epoch 120/200\n",
            "107/107 [==============================] - 0s 3ms/step - loss: 0.4169 - accuracy: 0.3321 - val_loss: 0.9115 - val_accuracy: 0.2244\n",
            "Epoch 121/200\n",
            "107/107 [==============================] - 0s 3ms/step - loss: 0.4118 - accuracy: 0.3321 - val_loss: 0.9061 - val_accuracy: 0.2222\n",
            "Epoch 122/200\n",
            "107/107 [==============================] - 0s 3ms/step - loss: 0.4055 - accuracy: 0.3321 - val_loss: 0.9124 - val_accuracy: 0.2266\n",
            "Epoch 123/200\n",
            "107/107 [==============================] - 0s 3ms/step - loss: 0.4028 - accuracy: 0.3353 - val_loss: 0.9098 - val_accuracy: 0.2222\n",
            "Epoch 124/200\n",
            "107/107 [==============================] - 0s 3ms/step - loss: 0.3989 - accuracy: 0.3326 - val_loss: 0.9126 - val_accuracy: 0.2200\n",
            "Epoch 125/200\n",
            "107/107 [==============================] - 0s 3ms/step - loss: 0.3931 - accuracy: 0.3397 - val_loss: 0.9070 - val_accuracy: 0.2288\n",
            "Epoch 126/200\n",
            "107/107 [==============================] - 0s 3ms/step - loss: 0.3872 - accuracy: 0.3403 - val_loss: 0.9103 - val_accuracy: 0.2266\n",
            "Epoch 127/200\n",
            "107/107 [==============================] - 0s 3ms/step - loss: 0.3860 - accuracy: 0.3381 - val_loss: 0.9124 - val_accuracy: 0.2179\n",
            "Epoch 128/200\n",
            "107/107 [==============================] - 0s 3ms/step - loss: 0.3835 - accuracy: 0.3419 - val_loss: 0.9061 - val_accuracy: 0.2244\n",
            "Epoch 129/200\n",
            "107/107 [==============================] - 0s 3ms/step - loss: 0.3746 - accuracy: 0.3408 - val_loss: 0.9301 - val_accuracy: 0.2266\n",
            "Epoch 130/200\n",
            "107/107 [==============================] - 0s 3ms/step - loss: 0.3722 - accuracy: 0.3469 - val_loss: 0.9173 - val_accuracy: 0.2179\n",
            "Epoch 131/200\n",
            "107/107 [==============================] - 0s 3ms/step - loss: 0.3686 - accuracy: 0.3436 - val_loss: 0.9107 - val_accuracy: 0.2244\n",
            "Epoch 132/200\n",
            "107/107 [==============================] - 0s 3ms/step - loss: 0.3631 - accuracy: 0.3485 - val_loss: 0.9104 - val_accuracy: 0.2266\n",
            "Epoch 133/200\n",
            "107/107 [==============================] - 0s 3ms/step - loss: 0.3576 - accuracy: 0.3491 - val_loss: 0.9114 - val_accuracy: 0.2244\n",
            "Epoch 134/200\n",
            "107/107 [==============================] - 0s 3ms/step - loss: 0.3551 - accuracy: 0.3496 - val_loss: 0.9233 - val_accuracy: 0.2309\n",
            "Epoch 135/200\n",
            "107/107 [==============================] - 0s 3ms/step - loss: 0.3538 - accuracy: 0.3480 - val_loss: 0.9280 - val_accuracy: 0.2266\n",
            "Epoch 136/200\n",
            "107/107 [==============================] - 0s 3ms/step - loss: 0.3471 - accuracy: 0.3502 - val_loss: 0.9167 - val_accuracy: 0.2266\n",
            "Epoch 137/200\n",
            "107/107 [==============================] - 0s 3ms/step - loss: 0.3429 - accuracy: 0.3507 - val_loss: 0.9217 - val_accuracy: 0.2288\n",
            "Epoch 138/200\n",
            "107/107 [==============================] - 0s 3ms/step - loss: 0.3387 - accuracy: 0.3502 - val_loss: 0.9156 - val_accuracy: 0.2288\n",
            "Epoch 139/200\n",
            "107/107 [==============================] - 0s 3ms/step - loss: 0.3364 - accuracy: 0.3502 - val_loss: 0.9163 - val_accuracy: 0.2288\n",
            "Epoch 140/200\n",
            "107/107 [==============================] - 0s 3ms/step - loss: 0.3311 - accuracy: 0.3562 - val_loss: 0.9200 - val_accuracy: 0.2222\n",
            "Epoch 141/200\n",
            "107/107 [==============================] - 0s 3ms/step - loss: 0.3269 - accuracy: 0.3557 - val_loss: 0.9395 - val_accuracy: 0.2179\n",
            "Epoch 142/200\n",
            "107/107 [==============================] - 0s 3ms/step - loss: 0.3244 - accuracy: 0.3546 - val_loss: 0.9225 - val_accuracy: 0.2266\n",
            "Epoch 143/200\n",
            "107/107 [==============================] - 0s 3ms/step - loss: 0.3222 - accuracy: 0.3513 - val_loss: 0.9372 - val_accuracy: 0.2266\n",
            "Epoch 144/200\n",
            "107/107 [==============================] - 0s 3ms/step - loss: 0.3166 - accuracy: 0.3557 - val_loss: 0.9188 - val_accuracy: 0.2309\n",
            "Epoch 145/200\n",
            "107/107 [==============================] - 0s 3ms/step - loss: 0.3131 - accuracy: 0.3606 - val_loss: 0.9200 - val_accuracy: 0.2200\n",
            "Epoch 146/200\n",
            "107/107 [==============================] - 0s 3ms/step - loss: 0.3098 - accuracy: 0.3634 - val_loss: 0.9301 - val_accuracy: 0.2331\n",
            "Epoch 147/200\n",
            "107/107 [==============================] - 0s 3ms/step - loss: 0.3078 - accuracy: 0.3606 - val_loss: 0.9242 - val_accuracy: 0.2288\n",
            "Epoch 148/200\n",
            "107/107 [==============================] - 0s 3ms/step - loss: 0.3060 - accuracy: 0.3628 - val_loss: 0.9391 - val_accuracy: 0.2157\n",
            "Epoch 149/200\n",
            "107/107 [==============================] - 0s 3ms/step - loss: 0.3007 - accuracy: 0.3661 - val_loss: 0.9350 - val_accuracy: 0.2222\n",
            "Epoch 150/200\n",
            "107/107 [==============================] - 0s 3ms/step - loss: 0.2946 - accuracy: 0.3678 - val_loss: 0.9241 - val_accuracy: 0.2288\n",
            "Epoch 151/200\n",
            "107/107 [==============================] - 0s 3ms/step - loss: 0.2936 - accuracy: 0.3683 - val_loss: 0.9294 - val_accuracy: 0.2222\n",
            "Epoch 152/200\n",
            "107/107 [==============================] - 0s 3ms/step - loss: 0.2893 - accuracy: 0.3705 - val_loss: 0.9282 - val_accuracy: 0.2288\n",
            "Epoch 153/200\n",
            "107/107 [==============================] - 0s 3ms/step - loss: 0.2871 - accuracy: 0.3700 - val_loss: 0.9276 - val_accuracy: 0.2222\n",
            "Epoch 154/200\n",
            "107/107 [==============================] - 0s 3ms/step - loss: 0.2835 - accuracy: 0.3733 - val_loss: 0.9289 - val_accuracy: 0.2266\n",
            "Epoch 155/200\n",
            "107/107 [==============================] - 0s 3ms/step - loss: 0.2792 - accuracy: 0.3716 - val_loss: 0.9370 - val_accuracy: 0.2309\n",
            "Epoch 156/200\n",
            "107/107 [==============================] - 0s 3ms/step - loss: 0.2764 - accuracy: 0.3711 - val_loss: 0.9386 - val_accuracy: 0.2222\n",
            "Epoch 157/200\n",
            "107/107 [==============================] - 0s 3ms/step - loss: 0.2767 - accuracy: 0.3760 - val_loss: 0.9321 - val_accuracy: 0.2244\n",
            "Epoch 158/200\n",
            "107/107 [==============================] - 0s 3ms/step - loss: 0.2696 - accuracy: 0.3771 - val_loss: 0.9315 - val_accuracy: 0.2309\n",
            "Epoch 159/200\n",
            "107/107 [==============================] - 0s 3ms/step - loss: 0.2727 - accuracy: 0.3716 - val_loss: 0.9332 - val_accuracy: 0.2353\n",
            "Epoch 160/200\n",
            "107/107 [==============================] - 0s 3ms/step - loss: 0.2634 - accuracy: 0.3760 - val_loss: 0.9385 - val_accuracy: 0.2288\n",
            "Epoch 161/200\n",
            "107/107 [==============================] - 0s 3ms/step - loss: 0.2614 - accuracy: 0.3793 - val_loss: 0.9336 - val_accuracy: 0.2397\n",
            "Epoch 162/200\n",
            "107/107 [==============================] - 0s 3ms/step - loss: 0.2597 - accuracy: 0.3815 - val_loss: 0.9422 - val_accuracy: 0.2331\n",
            "Epoch 163/200\n",
            "107/107 [==============================] - 0s 3ms/step - loss: 0.2576 - accuracy: 0.3804 - val_loss: 0.9381 - val_accuracy: 0.2244\n",
            "Epoch 164/200\n",
            "107/107 [==============================] - 0s 3ms/step - loss: 0.2531 - accuracy: 0.3799 - val_loss: 0.9292 - val_accuracy: 0.2266\n",
            "Epoch 165/200\n",
            "107/107 [==============================] - 0s 3ms/step - loss: 0.2506 - accuracy: 0.3832 - val_loss: 0.9244 - val_accuracy: 0.2266\n",
            "Epoch 166/200\n",
            "107/107 [==============================] - 0s 3ms/step - loss: 0.2495 - accuracy: 0.3788 - val_loss: 0.9445 - val_accuracy: 0.2244\n",
            "Epoch 167/200\n",
            "107/107 [==============================] - 0s 3ms/step - loss: 0.2443 - accuracy: 0.3843 - val_loss: 0.9448 - val_accuracy: 0.2244\n",
            "Epoch 168/200\n",
            "107/107 [==============================] - 0s 3ms/step - loss: 0.2438 - accuracy: 0.3854 - val_loss: 0.9481 - val_accuracy: 0.2309\n",
            "Epoch 169/200\n",
            "107/107 [==============================] - 0s 3ms/step - loss: 0.2408 - accuracy: 0.3804 - val_loss: 0.9334 - val_accuracy: 0.2288\n",
            "Epoch 170/200\n",
            "107/107 [==============================] - 0s 3ms/step - loss: 0.2369 - accuracy: 0.3837 - val_loss: 0.9369 - val_accuracy: 0.2309\n",
            "Epoch 171/200\n",
            "107/107 [==============================] - 0s 3ms/step - loss: 0.2335 - accuracy: 0.3854 - val_loss: 0.9388 - val_accuracy: 0.2353\n",
            "Epoch 172/200\n",
            "107/107 [==============================] - 0s 3ms/step - loss: 0.2317 - accuracy: 0.3898 - val_loss: 0.9360 - val_accuracy: 0.2331\n",
            "Epoch 173/200\n",
            "107/107 [==============================] - 0s 3ms/step - loss: 0.2292 - accuracy: 0.3859 - val_loss: 0.9370 - val_accuracy: 0.2309\n",
            "Epoch 174/200\n",
            "107/107 [==============================] - 0s 3ms/step - loss: 0.2259 - accuracy: 0.3909 - val_loss: 0.9471 - val_accuracy: 0.2288\n",
            "Epoch 175/200\n",
            "107/107 [==============================] - 0s 3ms/step - loss: 0.2236 - accuracy: 0.3909 - val_loss: 0.9488 - val_accuracy: 0.2288\n",
            "Epoch 176/200\n",
            "107/107 [==============================] - 0s 3ms/step - loss: 0.2206 - accuracy: 0.3881 - val_loss: 0.9479 - val_accuracy: 0.2288\n",
            "Epoch 177/200\n",
            "107/107 [==============================] - 0s 3ms/step - loss: 0.2190 - accuracy: 0.3881 - val_loss: 0.9443 - val_accuracy: 0.2288\n",
            "Epoch 178/200\n",
            "107/107 [==============================] - 0s 3ms/step - loss: 0.2172 - accuracy: 0.3903 - val_loss: 0.9433 - val_accuracy: 0.2309\n",
            "Epoch 179/200\n",
            "107/107 [==============================] - 0s 3ms/step - loss: 0.2133 - accuracy: 0.3925 - val_loss: 0.9519 - val_accuracy: 0.2288\n",
            "Epoch 180/200\n",
            "107/107 [==============================] - 0s 3ms/step - loss: 0.2122 - accuracy: 0.3903 - val_loss: 0.9575 - val_accuracy: 0.2309\n",
            "Epoch 181/200\n",
            "107/107 [==============================] - 0s 3ms/step - loss: 0.2091 - accuracy: 0.3947 - val_loss: 0.9401 - val_accuracy: 0.2331\n",
            "Epoch 182/200\n",
            "107/107 [==============================] - 0s 3ms/step - loss: 0.2053 - accuracy: 0.3914 - val_loss: 0.9541 - val_accuracy: 0.2309\n",
            "Epoch 183/200\n",
            "107/107 [==============================] - 0s 3ms/step - loss: 0.2068 - accuracy: 0.3931 - val_loss: 0.9417 - val_accuracy: 0.2353\n",
            "Epoch 184/200\n",
            "107/107 [==============================] - 0s 3ms/step - loss: 0.2042 - accuracy: 0.3931 - val_loss: 0.9467 - val_accuracy: 0.2353\n",
            "Epoch 185/200\n",
            "107/107 [==============================] - 0s 3ms/step - loss: 0.1995 - accuracy: 0.3947 - val_loss: 0.9522 - val_accuracy: 0.2331\n",
            "Epoch 186/200\n",
            "107/107 [==============================] - 0s 3ms/step - loss: 0.2018 - accuracy: 0.3936 - val_loss: 0.9448 - val_accuracy: 0.2397\n",
            "Epoch 187/200\n",
            "107/107 [==============================] - 0s 3ms/step - loss: 0.1943 - accuracy: 0.3958 - val_loss: 0.9434 - val_accuracy: 0.2418\n",
            "Epoch 188/200\n",
            "107/107 [==============================] - 0s 3ms/step - loss: 0.1944 - accuracy: 0.3964 - val_loss: 0.9480 - val_accuracy: 0.2375\n",
            "Epoch 189/200\n",
            "107/107 [==============================] - 0s 3ms/step - loss: 0.1936 - accuracy: 0.3980 - val_loss: 0.9562 - val_accuracy: 0.2353\n",
            "Epoch 190/200\n",
            "107/107 [==============================] - 0s 3ms/step - loss: 0.1891 - accuracy: 0.3997 - val_loss: 0.9601 - val_accuracy: 0.2331\n",
            "Epoch 191/200\n",
            "107/107 [==============================] - 0s 3ms/step - loss: 0.1870 - accuracy: 0.3936 - val_loss: 0.9549 - val_accuracy: 0.2331\n",
            "Epoch 192/200\n",
            "107/107 [==============================] - 0s 3ms/step - loss: 0.1837 - accuracy: 0.3997 - val_loss: 0.9564 - val_accuracy: 0.2353\n",
            "Epoch 193/200\n",
            "107/107 [==============================] - 0s 3ms/step - loss: 0.1837 - accuracy: 0.3969 - val_loss: 0.9611 - val_accuracy: 0.2331\n",
            "Epoch 194/200\n",
            "107/107 [==============================] - 0s 3ms/step - loss: 0.1822 - accuracy: 0.3991 - val_loss: 0.9587 - val_accuracy: 0.2397\n",
            "Epoch 195/200\n",
            "107/107 [==============================] - 0s 3ms/step - loss: 0.1793 - accuracy: 0.3975 - val_loss: 0.9577 - val_accuracy: 0.2397\n",
            "Epoch 196/200\n",
            "107/107 [==============================] - 0s 3ms/step - loss: 0.1778 - accuracy: 0.4035 - val_loss: 0.9616 - val_accuracy: 0.2331\n",
            "Epoch 197/200\n",
            "107/107 [==============================] - 0s 3ms/step - loss: 0.1746 - accuracy: 0.4008 - val_loss: 0.9669 - val_accuracy: 0.2331\n",
            "Epoch 198/200\n",
            "107/107 [==============================] - 0s 3ms/step - loss: 0.1734 - accuracy: 0.3997 - val_loss: 0.9633 - val_accuracy: 0.2353\n",
            "Epoch 199/200\n",
            "107/107 [==============================] - 0s 3ms/step - loss: 0.1703 - accuracy: 0.3986 - val_loss: 0.9603 - val_accuracy: 0.2397\n",
            "Epoch 200/200\n",
            "107/107 [==============================] - 0s 3ms/step - loss: 0.1707 - accuracy: 0.4008 - val_loss: 0.9607 - val_accuracy: 0.2375\n"
          ],
          "name": "stdout"
        }
      ]
    },
    {
      "cell_type": "code",
      "metadata": {
        "id": "F7CLju35P3oK",
        "colab": {
          "base_uri": "https://localhost:8080/",
          "height": 369
        },
        "outputId": "63ab40e2-0823-4a49-c4e4-f41dbf5d99db"
      },
      "source": [
        "\n",
        "from plot_keras_history import plot_history\n",
        "plot_history(hist)"
      ],
      "execution_count": null,
      "outputs": [
        {
          "output_type": "display_data",
          "data": {
            "image/png": "[encoded data removed]",
            "text/plain": [
              "<Figure size 720x360 with 2 Axes>"
            ]
          },
          "metadata": {
            "tags": [],
            "needs_background": "light"
          }
        }
      ]
    },
    {
      "cell_type": "code",
      "metadata": {
        "id": "lsz6McDxix8Y"
      },
      "source": [
        "#We are ready for inference. \n",
        "#(kopi o <pad> <pad> <pad>)\t---------> ($START black coffee with sugar END$)\n",
        "  ##Encoder(kopi o <pad> <pad> <pad>) = (h0,c0)\n",
        "    ##(h0,c0) +  $START ----decoder-----> (black,  (h1,c1)) \n",
        "    ##(h1,c1)\t+  black -----decoder---->  (coffee, (h2,c2))\n",
        "    ##(h2,c2)\t+  coffee ----decoder-----> (with,   (h3,c3))\n",
        "    ##(h3,c3)\t+  with ------decoder--->   (sugar,  (h4,c4))\n",
        "    ##(h4,c4)\t+  sugar -----decoder---->  (END$,   (h5,c5))\n",
        "\n",
        "\n",
        "#To decode a test sentence, we will repeatedly:\n",
        "#1) Encode the input sentence and retrieve the initial state (encoder_states = [state_h, state_c])\n",
        "        ##(kopi o)--->encoder_states = [state_h, state_c]\n",
        "#2) Run one step of the decoder ([state_h, state_c] + START_ -----> black)\n",
        "    #initial state(encoder_states = [state_h, state_c]) and a \"START_\" token as input. \n",
        "    #The output will be the next Target_Word (may or maynot be \"black\").\n",
        "#3) Append the Target_Word with previous input (\"START_ Target_Word\")  and REPEAT (utill \"_END\" predicted)."
      ],
      "execution_count": null,
      "outputs": []
    },
    {
      "cell_type": "code",
      "metadata": {
        "id": "lCk7N-le65Lp",
        "colab": {
          "base_uri": "https://localhost:8080/"
        },
        "outputId": "9cce4a39-17ff-4270-ea96-f3a80fb6a30a"
      },
      "source": [
        "#define encode_model seperatly as training stage \n",
        "#(kopi o)--->encoder_states = [state_h, state_c]\n",
        "encoder_model = Model(encoder_inputs, encoder_states) #reusing the [encoder_inputs,encoder_states]\n",
        "encoder_model.summary()\n",
        "\n",
        "#define decoder_model seperatly as training stages\n",
        "#[_h, _c] for decoder LSTM\n",
        "decoder_state_input_h = Input(shape=(hidden_dim,))\n",
        "decoder_state_input_c = Input(shape=(hidden_dim,))\n",
        "decoder_states_inputs = [decoder_state_input_h, decoder_state_input_c]\n",
        "\n",
        "# [decoder_input, h_t0, c_t0] for decoder LSTM\n",
        "decoder_outputs, state_h, state_c = decoder_lstm(decoder_inputs, initial_state=decoder_states_inputs)\n",
        "# predict [h_t1, c_t1]\n",
        "decoder_states = [state_h, state_c]\n",
        "# predict [target_Seq_t1]\n",
        "decoder_outputs = decoder_dense(decoder_outputs)\n",
        "\n",
        "decoder_model = Model([decoder_inputs] + decoder_states_inputs, [decoder_outputs] + decoder_states)\n",
        "decoder_model.summary()\n"
      ],
      "execution_count": 22,
      "outputs": [
        {
          "output_type": "stream",
          "text": [
            "Model: \"model_2\"\n",
            "_________________________________________________________________\n",
            "Layer (type)                 Output Shape              Param #   \n",
            "=================================================================\n",
            "input_1 (InputLayer)         (None, None, 63)          0         \n",
            "_________________________________________________________________\n",
            "lstm_1 (LSTM)                [(None, 32), (None, 32),  12288     \n",
            "=================================================================\n",
            "Total params: 12,288\n",
            "Trainable params: 12,288\n",
            "Non-trainable params: 0\n",
            "_________________________________________________________________\n",
            "Model: \"model_3\"\n",
            "__________________________________________________________________________________________________\n",
            "Layer (type)                    Output Shape         Param #     Connected to                     \n",
            "==================================================================================================\n",
            "input_2 (InputLayer)            (None, None, 109)    0                                            \n",
            "__________________________________________________________________________________________________\n",
            "input_3 (InputLayer)            (None, 32)           0                                            \n",
            "__________________________________________________________________________________________________\n",
            "input_4 (InputLayer)            (None, 32)           0                                            \n",
            "__________________________________________________________________________________________________\n",
            "lstm_2 (LSTM)                   [(None, None, 32), ( 18176       input_2[0][0]                    \n",
            "                                                                 input_3[0][0]                    \n",
            "                                                                 input_4[0][0]                    \n",
            "__________________________________________________________________________________________________\n",
            "dense_1 (Dense)                 (None, None, 109)    3597        lstm_2[1][0]                     \n",
            "==================================================================================================\n",
            "Total params: 21,773\n",
            "Trainable params: 21,773\n",
            "Non-trainable params: 0\n",
            "__________________________________________________________________________________________________\n"
          ],
          "name": "stdout"
        }
      ]
    },
    {
      "cell_type": "code",
      "metadata": {
        "id": "9SUHvsHC67mN"
      },
      "source": [
        " ##Encoder(kopi o <pad> <pad> <pad>) = (h0,c0)\n",
        "    ##(h0,c0) +  $START ----decoder-----> (black,  (h1,c1)) \n",
        "    ##(h1,c1)\t+  black -----decoder---->  (coffee, (h2,c2))\n",
        "    ##(h2,c2)\t+  coffee ----decoder-----> (with,   (h3,c3))\n",
        "    ##(h3,c3)\t+  with ------decoder--->   (sugar,  (h4,c4))\n",
        "    ##(h4,c4)\t+  sugar -----decoder---->  (END$,   (h5,c5))\n",
        "\n",
        "def decode_sequence(input_seq,num_decoder_tokens,encoder_model,decoder_model,vocab_B,max_decoder_seq_length,maxlen_A,vocab_size_A):\n",
        "\n",
        "    if len(input_seq)==0:\n",
        "        return [vocab_B['end$']]\n",
        "\n",
        "    # Encode the input as state vectors.\n",
        "    ##Encoder(kopi o <pad> <pad> <pad>) = (h0,c0)\n",
        "\n",
        "    encoder_input_text = np.zeros((1, maxlen_A, vocab_size_A), dtype='float32')\n",
        "    for t, word_id in enumerate(input_seq):\n",
        "        encoder_input_text[0, t, word_id] = 1.\n",
        "\n",
        "    states_value = encoder_model.predict(encoder_input_text)\n",
        "\n",
        "    # Generate empty target sequence of word_token.\n",
        "    target_seq = np.zeros((1, 1, num_decoder_tokens))\n",
        "\n",
        "    # Initialize with $start\n",
        "    target_seq[0, 0, vocab_B['$start']] = 1.\n",
        "\n",
        "    # Sampling loop for a batch of sequences\n",
        "    # (to simplify, here we assume a batch of size 1 (greedy decoding)).\n",
        "    stop_condition = False\n",
        "    decoded_word_index = []\n",
        "    \n",
        "    while not stop_condition:\n",
        "        ##(h0,c0) +  $START ----decoder-----> (???,  (h1,c1)) \n",
        "        output_tokens, h, c = decoder_model.predict([target_seq] + states_value)\n",
        "\n",
        "        # Predict the best token (black)\n",
        "        predict_token_index = np.argmax(output_tokens[0, -1, :])\n",
        "        decoded_word_index.append(predict_token_index)\n",
        "\n",
        "        # Exit condition: either hit max length # or find stop character.\n",
        "        if (predict_token_index == vocab_B['end$'] or len(decoded_word_index) > max_decoder_seq_length):\n",
        "            stop_condition = True\n",
        "\n",
        "        ##(h1,c1)\t+  black -----decoder---->  (???, (h2,c2))\n",
        "\n",
        "        # Update the target sequence to the predict word_token\n",
        "        target_seq = np.zeros((1, 1, num_decoder_tokens))\n",
        "        target_seq[0, 0, predict_token_index] = 1.\n",
        "\n",
        "        # Update states\n",
        "        states_value = [h, c]\n",
        "\n",
        "    return decoded_word_index"
      ],
      "execution_count": 23,
      "outputs": []
    },
    {
      "cell_type": "code",
      "metadata": {
        "id": "LHsBrNmnAjN_",
        "colab": {
          "base_uri": "https://localhost:8080/"
        },
        "outputId": "43c076c7-3f81-4f5c-af8e-84e4e4193302"
      },
      "source": [
        "#Try with the first row\n",
        "\n",
        "print(seqA[0])\n",
        "r = decode_sequence(seqA[0],vocab_size_B,encoder_model,decoder_model,word_index_B,maxlen_B,maxlen_A,vocab_size_A)\n",
        "print (r)\n"
      ],
      "execution_count": 24,
      "outputs": [
        {
          "output_type": "stream",
          "text": [
            "[1, 5]\n",
            "[5, 3, 9, 4, 24, 26, 6, 2]\n"
          ],
          "name": "stdout"
        }
      ]
    },
    {
      "cell_type": "code",
      "metadata": {
        "id": "h47IfppdVbCt",
        "colab": {
          "base_uri": "https://localhost:8080/"
        },
        "outputId": "0d90e30e-17fb-4451-9f06-378e6f8416f7"
      },
      "source": [
        "# Creating a reverse dictionary\n",
        "\n",
        "reverse_word_map_A = dict(map(reversed, tokenizer_A.word_index.items()))\n",
        "reverse_word_map_B = dict(map(reversed, tokenizer_B.word_index.items()))\n",
        "\n",
        "# Function takes a tokenized sentence and returns the words\n",
        "def indexSeq_to_text_A(list_of_indices):\n",
        "    # Looking up words in dictionary\n",
        "    words = [reverse_word_map_A.get(letter) for letter in list_of_indices]\n",
        "    return(words)\n",
        "\n",
        "def indexSeq_to_text_B(list_of_indices):\n",
        "    # Looking up words in dictionary\n",
        "    words = [reverse_word_map_B.get(letter) for letter in list_of_indices]\n",
        "    return(words)\n",
        "\n",
        "print(indexSeq_to_text_A(seqA[0]))\n",
        "print(indexSeq_to_text_B(r))"
      ],
      "execution_count": 25,
      "outputs": [
        {
          "output_type": "stream",
          "text": [
            "['kopi', 'kosong']\n",
            "['coffee', 'with', 'condensed', 'milk', 'but', 'no', 'sugar', 'end$']\n"
          ],
          "name": "stdout"
        }
      ]
    },
    {
      "cell_type": "code",
      "metadata": {
        "id": "03e1PEIfj2AM"
      },
      "source": [
        "#Translater for a list of seqA to seqB     \n",
        "def testSeq2Sq(listOfSeqA):\n",
        "    listOfSeqB=[]\n",
        "    token_seqA = tokenizer_A.texts_to_sequences(listOfSeqA)\n",
        "    \n",
        "    for a in token_seqA:\n",
        "        r = decode_sequence(a,vocab_size_B,encoder_model,decoder_model,word_index_B,maxlen_B,maxlen_A,vocab_size_A)\n",
        "        tokens_b = indexSeq_to_text_B(r)\n",
        "        sentB = ' '.join(tokens_b)\n",
        "        listOfSeqB.append(sentB)\n",
        "        \n",
        "    return listOfSeqB"
      ],
      "execution_count": 26,
      "outputs": []
    },
    {
      "cell_type": "code",
      "metadata": {
        "id": "PeDvkEVFxdVs",
        "colab": {
          "base_uri": "https://localhost:8080/",
          "height": 301
        },
        "outputId": "5bc4a108-f196-45fb-ec50-50733787ac04"
      },
      "source": [
        "#test with fresh data\n",
        "\n",
        "decode_testSeqB = testSeq2Sq(testlines.SeqA)\n",
        "testlines['Translated'] = decode_testSeqB\n",
        "testlines.head()\n",
        "\n"
      ],
      "execution_count": 27,
      "outputs": [
        {
          "output_type": "stream",
          "text": [
            "/usr/local/lib/python3.6/dist-packages/ipykernel_launcher.py:4: SettingWithCopyWarning: \n",
            "A value is trying to be set on a copy of a slice from a DataFrame.\n",
            "Try using .loc[row_indexer,col_indexer] = value instead\n",
            "\n",
            "See the caveats in the documentation: https://pandas.pydata.org/pandas-docs/stable/user_guide/indexing.html#returning-a-view-versus-a-copy\n",
            "  after removing the cwd from sys.path.\n"
          ],
          "name": "stderr"
        },
        {
          "output_type": "execute_result",
          "data": {
            "text/html": [
              "<div>\n",
              "<style scoped>\n",
              "    .dataframe tbody tr th:only-of-type {\n",
              "        vertical-align: middle;\n",
              "    }\n",
              "\n",
              "    .dataframe tbody tr th {\n",
              "        vertical-align: top;\n",
              "    }\n",
              "\n",
              "    .dataframe thead th {\n",
              "        text-align: right;\n",
              "    }\n",
              "</style>\n",
              "<table border=\"1\" class=\"dataframe\">\n",
              "  <thead>\n",
              "    <tr style=\"text-align: right;\">\n",
              "      <th></th>\n",
              "      <th>SeqA</th>\n",
              "      <th>SeqB</th>\n",
              "      <th>Translated</th>\n",
              "    </tr>\n",
              "  </thead>\n",
              "  <tbody>\n",
              "    <tr>\n",
              "      <th>13</th>\n",
              "      <td>kopi gau peng</td>\n",
              "      <td>$START strong iced coffee with condensed milk ...</td>\n",
              "      <td>iced strong coffee with condensed milk end$</td>\n",
              "    </tr>\n",
              "    <tr>\n",
              "      <th>159</th>\n",
              "      <td>teh c</td>\n",
              "      <td>$START tea with evaporated milk and sugar END$</td>\n",
              "      <td>tea with evaporated milk and sugar end$</td>\n",
              "    </tr>\n",
              "    <tr>\n",
              "      <th>69</th>\n",
              "      <td>diao yu</td>\n",
              "      <td>$START chinese tea END$</td>\n",
              "      <td>chinese tea end$</td>\n",
              "    </tr>\n",
              "    <tr>\n",
              "      <th>148</th>\n",
              "      <td>kopi gau</td>\n",
              "      <td>$START strong brew of coffee with condensed mi...</td>\n",
              "      <td>strong coffee with condensed milk end$</td>\n",
              "    </tr>\n",
              "    <tr>\n",
              "      <th>44</th>\n",
              "      <td>kopi o gau siew dai</td>\n",
              "      <td>$START hot black coffee with more coffee powde...</td>\n",
              "      <td>hot black coffee with more coffee powder and m...</td>\n",
              "    </tr>\n",
              "  </tbody>\n",
              "</table>\n",
              "</div>"
            ],
            "text/plain": [
              "                    SeqA  ...                                         Translated\n",
              "13         kopi gau peng  ...        iced strong coffee with condensed milk end$\n",
              "159                teh c  ...            tea with evaporated milk and sugar end$\n",
              "69               diao yu  ...                                   chinese tea end$\n",
              "148             kopi gau  ...             strong coffee with condensed milk end$\n",
              "44   kopi o gau siew dai  ...  hot black coffee with more coffee powder and m...\n",
              "\n",
              "[5 rows x 3 columns]"
            ]
          },
          "metadata": {
            "tags": []
          },
          "execution_count": 27
        }
      ]
    },
    {
      "cell_type": "code",
      "metadata": {
        "id": "PCTXYqFZkGNK",
        "colab": {
          "base_uri": "https://localhost:8080/",
          "height": 301
        },
        "outputId": "973ef60f-3814-4b9e-87f4-c8ef22f930c5"
      },
      "source": [
        "#test with known training data\n",
        "sample_train=lines[:10]\n",
        "decode_sample_train = testSeq2Sq(sample_train.SeqA)\n",
        "sample_train['Translated'] = decode_sample_train\n",
        "sample_train.head()"
      ],
      "execution_count": 28,
      "outputs": [
        {
          "output_type": "stream",
          "text": [
            "/usr/local/lib/python3.6/dist-packages/ipykernel_launcher.py:4: SettingWithCopyWarning: \n",
            "A value is trying to be set on a copy of a slice from a DataFrame.\n",
            "Try using .loc[row_indexer,col_indexer] = value instead\n",
            "\n",
            "See the caveats in the documentation: https://pandas.pydata.org/pandas-docs/stable/user_guide/indexing.html#returning-a-view-versus-a-copy\n",
            "  after removing the cwd from sys.path.\n"
          ],
          "name": "stderr"
        },
        {
          "output_type": "execute_result",
          "data": {
            "text/html": [
              "<div>\n",
              "<style scoped>\n",
              "    .dataframe tbody tr th:only-of-type {\n",
              "        vertical-align: middle;\n",
              "    }\n",
              "\n",
              "    .dataframe tbody tr th {\n",
              "        vertical-align: top;\n",
              "    }\n",
              "\n",
              "    .dataframe thead th {\n",
              "        text-align: right;\n",
              "    }\n",
              "</style>\n",
              "<table border=\"1\" class=\"dataframe\">\n",
              "  <thead>\n",
              "    <tr style=\"text-align: right;\">\n",
              "      <th></th>\n",
              "      <th>SeqA</th>\n",
              "      <th>SeqB</th>\n",
              "      <th>Translated</th>\n",
              "    </tr>\n",
              "  </thead>\n",
              "  <tbody>\n",
              "    <tr>\n",
              "      <th>3</th>\n",
              "      <td>kopi kosong</td>\n",
              "      <td>$START black coffee without sugar or milk END$</td>\n",
              "      <td>coffee with condensed milk but no sugar end$</td>\n",
              "    </tr>\n",
              "    <tr>\n",
              "      <th>9</th>\n",
              "      <td>kopi gau</td>\n",
              "      <td>$START strong coffee with condensed milk END$</td>\n",
              "      <td>strong coffee with condensed milk end$</td>\n",
              "    </tr>\n",
              "    <tr>\n",
              "      <th>161</th>\n",
              "      <td>teh o</td>\n",
              "      <td>$START tea with sugar only END$</td>\n",
              "      <td>tea with sugar end$</td>\n",
              "    </tr>\n",
              "    <tr>\n",
              "      <th>2</th>\n",
              "      <td>kopi c</td>\n",
              "      <td>$START black coffee with evaporated milk END$</td>\n",
              "      <td>coffee with evaporated milk and sugar end$</td>\n",
              "    </tr>\n",
              "    <tr>\n",
              "      <th>25</th>\n",
              "      <td>kopi gau ga dai</td>\n",
              "      <td>$START hot coffee with condensed milk and more...</td>\n",
              "      <td>hot coffee with condensed milk and more coffee...</td>\n",
              "    </tr>\n",
              "  </tbody>\n",
              "</table>\n",
              "</div>"
            ],
            "text/plain": [
              "                SeqA  ...                                         Translated\n",
              "3        kopi kosong  ...       coffee with condensed milk but no sugar end$\n",
              "9           kopi gau  ...             strong coffee with condensed milk end$\n",
              "161            teh o  ...                                tea with sugar end$\n",
              "2             kopi c  ...         coffee with evaporated milk and sugar end$\n",
              "25   kopi gau ga dai  ...  hot coffee with condensed milk and more coffee...\n",
              "\n",
              "[5 rows x 3 columns]"
            ]
          },
          "metadata": {
            "tags": []
          },
          "execution_count": 28
        }
      ]
    }
  ]
}